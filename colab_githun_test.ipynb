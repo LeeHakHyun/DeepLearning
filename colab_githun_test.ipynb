{
  "nbformat": 4,
  "nbformat_minor": 0,
  "metadata": {
    "colab": {
      "name": "Untitled3.ipynb",
      "version": "0.3.2",
      "provenance": [],
      "include_colab_link": true
    },
    "kernelspec": {
      "name": "python3",
      "display_name": "Python 3"
    },
    "accelerator": "GPU"
  },
  "cells": [
    {
      "cell_type": "markdown",
      "metadata": {
        "id": "view-in-github",
        "colab_type": "text"
      },
      "source": [
        "<a href=\"https://colab.research.google.com/github/LeeHakHyun/DeepLearning/blob/master/colab_githun_test.ipynb\" target=\"_parent\"><img src=\"https://colab.research.google.com/assets/colab-badge.svg\" alt=\"Open In Colab\"/></a>"
      ]
    },
    {
      "cell_type": "markdown",
      "metadata": {
        "id": "q7OE2UAU--jd",
        "colab_type": "text"
      },
      "source": [
        "# [1] 필요한 library load"
      ]
    },
    {
      "cell_type": "code",
      "metadata": {
        "id": "w0Uw3EK4-B-k",
        "colab_type": "code",
        "colab": {
          "base_uri": "https://localhost:8080/",
          "height": 68
        },
        "outputId": "c558d2c7-cf64-4db7-b176-92296e275182"
      },
      "source": [
        "from __future__ import absolute_import, division, print_function, unicode_literals\n",
        "\n",
        "!pip install -q tensorflow-gpu==2.0.0-beta1\n",
        "import tensorflow as tf\n",
        "\n",
        "from tensorflow.keras.layers import Dense, Flatten, Conv2D\n",
        "from tensorflow.keras import Model"
      ],
      "execution_count": 1,
      "outputs": [
        {
          "output_type": "stream",
          "text": [
            "\u001b[K     |████████████████████████████████| 348.9MB 105kB/s \n",
            "\u001b[K     |████████████████████████████████| 3.1MB 50.7MB/s \n",
            "\u001b[K     |████████████████████████████████| 501kB 57.1MB/s \n",
            "\u001b[?25h"
          ],
          "name": "stdout"
        }
      ]
    },
    {
      "cell_type": "markdown",
      "metadata": {
        "id": "O6AwFnn5-2NN",
        "colab_type": "text"
      },
      "source": [
        "# [2] MNIST 데이터셋 load"
      ]
    },
    {
      "cell_type": "code",
      "metadata": {
        "id": "a9bOLSn2-sgG",
        "colab_type": "code",
        "colab": {
          "base_uri": "https://localhost:8080/",
          "height": 51
        },
        "outputId": "aed87151-761a-43ad-d10c-763c53e4d182"
      },
      "source": [
        "mnist = tf.keras.datasets.mnist\n",
        "\n",
        "(x_train, y_train), (x_test, y_test) = mnist.load_data()\n",
        "x_train, x_test = x_train / 255.0, x_test / 255.0\n",
        "\n",
        "# 채널 차원을 추가합니다.\n",
        "x_train = x_train[..., tf.newaxis]\n",
        "x_test = x_test[..., tf.newaxis]"
      ],
      "execution_count": 3,
      "outputs": [
        {
          "output_type": "stream",
          "text": [
            "Downloading data from https://storage.googleapis.com/tensorflow/tf-keras-datasets/mnist.npz\n",
            "11493376/11490434 [==============================] - 0s 0us/step\n"
          ],
          "name": "stdout"
        }
      ]
    },
    {
      "cell_type": "markdown",
      "metadata": {
        "id": "iHZmj-ea-1Ml",
        "colab_type": "text"
      },
      "source": [
        "# [3] Batch 생성"
      ]
    },
    {
      "cell_type": "code",
      "metadata": {
        "id": "I0Ik61PG_QCQ",
        "colab_type": "code",
        "colab": {}
      },
      "source": [
        "train_ds = tf.data.Dataset.from_tensor_slices(\n",
        "    (x_train, y_train)).shuffle(10000).batch(32)\n",
        "test_ds = tf.data.Dataset.from_tensor_slices((x_test, y_test)).batch(32)"
      ],
      "execution_count": 0,
      "outputs": []
    },
    {
      "cell_type": "markdown",
      "metadata": {
        "id": "QOw0z9-__eQF",
        "colab_type": "text"
      },
      "source": [
        "# [4] keras 모델 생성"
      ]
    },
    {
      "cell_type": "code",
      "metadata": {
        "id": "VtX5MkH2_dRH",
        "colab_type": "code",
        "colab": {}
      },
      "source": [
        "class MyModel(Model):\n",
        "  def __init__(self):\n",
        "    super(MyModel, self).__init__()\n",
        "    self.conv1 = Conv2D(32, 3, activation='relu')\n",
        "    self.flatten = Flatten()\n",
        "    self.d1 = Dense(128, activation='relu')\n",
        "    self.d2 = Dense(10, activation='softmax')\n",
        "\n",
        "  def call(self, x):\n",
        "    x = self.conv1(x)\n",
        "    x = self.flatten(x)\n",
        "    x = self.d1(x)\n",
        "    return self.d2(x)\n",
        "\n",
        "model = MyModel()"
      ],
      "execution_count": 0,
      "outputs": []
    },
    {
      "cell_type": "markdown",
      "metadata": {
        "id": "PRRMwW3R_pkT",
        "colab_type": "text"
      },
      "source": [
        "# [5] loss function과 optimizer 정의"
      ]
    },
    {
      "cell_type": "code",
      "metadata": {
        "id": "5aP67m-3_uLe",
        "colab_type": "code",
        "colab": {}
      },
      "source": [
        "loss_object = tf.keras.losses.SparseCategoricalCrossentropy()\n",
        "\n",
        "optimizer = tf.keras.optimizers.Adam()"
      ],
      "execution_count": 0,
      "outputs": []
    },
    {
      "cell_type": "markdown",
      "metadata": {
        "id": "sZaFl3MF_2Hg",
        "colab_type": "text"
      },
      "source": [
        "# [6] Loss를 계산하고 저장 "
      ]
    },
    {
      "cell_type": "code",
      "metadata": {
        "id": "GxTimRvc_u8l",
        "colab_type": "code",
        "colab": {}
      },
      "source": [
        "train_loss = tf.keras.metrics.Mean(name='train_loss')\n",
        "train_accuracy = tf.keras.metrics.SparseCategoricalAccuracy(name='train_accuracy')\n",
        "\n",
        "test_loss = tf.keras.metrics.Mean(name='test_loss')\n",
        "test_accuracy = tf.keras.metrics.SparseCategoricalAccuracy(name='test_accuracy')"
      ],
      "execution_count": 0,
      "outputs": []
    },
    {
      "cell_type": "markdown",
      "metadata": {
        "id": "PdBaFtLEA2OD",
        "colab_type": "text"
      },
      "source": [
        "# [7] GradientTape을 이용해 학습 진행"
      ]
    },
    {
      "cell_type": "code",
      "metadata": {
        "id": "nSYyKy_o_1VW",
        "colab_type": "code",
        "colab": {}
      },
      "source": [
        "@tf.function\n",
        "def train_step(images, labels):\n",
        "  with tf.GradientTape() as tape:\n",
        "    predictions = model(images)\n",
        "    loss = loss_object(labels, predictions)\n",
        "  gradients = tape.gradient(loss, model.trainable_variables)\n",
        "  optimizer.apply_gradients(zip(gradients, model.trainable_variables))\n",
        "\n",
        "  train_loss(loss)\n",
        "  train_accuracy(labels, predictions)"
      ],
      "execution_count": 0,
      "outputs": []
    },
    {
      "cell_type": "markdown",
      "metadata": {
        "id": "3vRlLTpNCl1R",
        "colab_type": "text"
      },
      "source": [
        "# [8] train step 정의 "
      ]
    },
    {
      "cell_type": "code",
      "metadata": {
        "id": "8n7j628KAO-m",
        "colab_type": "code",
        "colab": {}
      },
      "source": [
        "@tf.function\n",
        "def test_step(images, labels):\n",
        "  predictions = model(images)\n",
        "  t_loss = loss_object(labels, predictions)\n",
        "\n",
        "  test_loss(t_loss)\n",
        "  test_accuracy(labels, predictions)"
      ],
      "execution_count": 0,
      "outputs": []
    },
    {
      "cell_type": "markdown",
      "metadata": {
        "id": "_SzjQWZPC-M2",
        "colab_type": "text"
      },
      "source": [
        "# [9] train 진행"
      ]
    },
    {
      "cell_type": "code",
      "metadata": {
        "id": "k146NtiSAPhd",
        "colab_type": "code",
        "colab": {
          "base_uri": "https://localhost:8080/",
          "height": 102
        },
        "outputId": "94f7055e-8240-4e56-ebff-4627badf1116"
      },
      "source": [
        "EPOCHS = 5\n",
        "\n",
        "for epoch in range(EPOCHS):\n",
        "  for images, labels in train_ds:\n",
        "    train_step(images, labels)\n",
        "\n",
        "  for test_images, test_labels in test_ds:\n",
        "    test_step(test_images, test_labels)\n",
        "\n",
        "  template = '에포크: {}, 손실: {}, 정확도: {}, 테스트 손실: {}, 테스트 정확도: {}'\n",
        "  print (template.format(epoch+1,\n",
        "                         train_loss.result(),\n",
        "                         train_accuracy.result()*100,\n",
        "                         test_loss.result(),\n",
        "                         test_accuracy.result()*100))"
      ],
      "execution_count": 16,
      "outputs": [
        {
          "output_type": "stream",
          "text": [
            "에포크: 1, 손실: 0.13847769796848297, 정확도: 95.82666778564453, 테스트 손실: 0.06859619170427322, 테스트 정확도: 97.8699951171875\n",
            "에포크: 2, 손실: 0.08996602892875671, 정확도: 97.27083587646484, 테스트 손실: 0.06318934261798859, 테스트 정확도: 97.99500274658203\n",
            "에포크: 3, 손실: 0.06645364314317703, 정확도: 97.97999572753906, 테스트 손실: 0.06267097592353821, 테스트 정확도: 98.0633316040039\n",
            "에포크: 4, 손실: 0.05287032201886177, 정확도: 98.38333129882812, 테스트 손실: 0.06145394593477249, 테스트 정확도: 98.10749816894531\n",
            "에포크: 5, 손실: 0.044248390942811966, 정확도: 98.63899993896484, 테스트 손실: 0.06251437962055206, 테스트 정확도: 98.14800262451172\n"
          ],
          "name": "stdout"
        }
      ]
    },
    {
      "cell_type": "code",
      "metadata": {
        "id": "qCtf7h8yATNd",
        "colab_type": "code",
        "colab": {}
      },
      "source": [
        ""
      ],
      "execution_count": 0,
      "outputs": []
    }
  ]
}